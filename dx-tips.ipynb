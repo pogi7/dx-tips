{
 "cells": [
  {
   "cell_type": "code",
   "execution_count": 1,
   "metadata": {},
   "outputs": [
    {
     "data": {
      "text/markdown": [
       "## NASA Astonomy Picture of the Day"
      ],
      "text/plain": [
       "<IPython.core.display.Markdown object>"
      ]
     },
     "metadata": {},
     "output_type": "display_data"
    },
    {
     "data": {
      "text/markdown": [
       "### Title: Facing NGC 1232"
      ],
      "text/plain": [
       "<IPython.core.display.Markdown object>"
      ]
     },
     "metadata": {},
     "output_type": "display_data"
    },
    {
     "data": {
      "text/html": [
       "<img src=\"https://apod.nasa.gov/apod/image/2404/NGC1232_Eye_of_God_Galaxy_fullsize_2024-03-28_1024.jpg\" width=\"500\" height=\"500\"/>"
      ],
      "text/plain": [
       "<IPython.core.display.Image object>"
      ]
     },
     "metadata": {},
     "output_type": "display_data"
    }
   ],
   "source": [
    "import requests\n",
    "from IPython.display import Image, display, Markdown\n",
    "\n",
    "# Fetch the NASA APoD JSON data\n",
    "response = requests.get('https://api.nasa.gov/planetary/apod?api_key=DEMO_KEY')\n",
    "data = response.json()\n",
    "\n",
    "# Extract the image URL and title\n",
    "image_url = data['url']\n",
    "image_title = data['title']\n",
    "\n",
    "# Display the image and title\n",
    "display(Markdown(f\"## NASA Astonomy Picture of the Day\"))\n",
    "display(Markdown(f\"### Title: {image_title}\"))\n",
    "display(Image(url=image_url, width=500, height=500))"
   ]
  },
  {
   "cell_type": "code",
   "execution_count": 2,
   "metadata": {},
   "outputs": [
    {
     "data": {
      "text/markdown": [
       "# A Hitchhiker's Guide to Effective and Pleasant Developer Experience (DX)"
      ],
      "text/plain": [
       "<IPython.core.display.Markdown object>"
      ]
     },
     "metadata": {},
     "output_type": "display_data"
    },
    {
     "data": {
      "text/markdown": [
       "## 2024-04-18"
      ],
      "text/plain": [
       "<IPython.core.display.Markdown object>"
      ]
     },
     "metadata": {},
     "output_type": "display_data"
    },
    {
     "data": {
      "text/markdown": [
       "### Aaron Levitt - Software Systems Engineer"
      ],
      "text/plain": [
       "<IPython.core.display.Markdown object>"
      ]
     },
     "metadata": {},
     "output_type": "display_data"
    },
    {
     "data": {
      "text/markdown": [
       "Working in a development team can bring all sorts of positive and negative developer experiences that may lead to meaningful, insignificant, or no change.  Please join Aaron Levitt as he shares his experience with common patterns he's noticed while working in an effective and pleasant DX."
      ],
      "text/plain": [
       "<IPython.core.display.Markdown object>"
      ]
     },
     "metadata": {},
     "output_type": "display_data"
    }
   ],
   "source": [
    "from datetime import datetime\n",
    "from IPython.display import display, Markdown\n",
    "\n",
    "this_year = str(datetime.now().year)\n",
    "todays_date = str(datetime.now().date())\n",
    "\n",
    "display(Markdown(f\"# A Hitchhiker's Guide to Effective and Pleasant Developer Experience (DX)\"))\n",
    "display(Markdown(f\"## {todays_date}\"))\n",
    "display(Markdown(\"### Aaron Levitt - Software Systems Engineer\"))\n",
    "display(Markdown(f\"Working in a development team can bring all sorts of positive and negative developer experiences that may lead to meaningful, insignificant, or no change.  Please join Aaron Levitt as he shares his experience with common patterns he's noticed while working in an effective and pleasant DX.\"))"
   ]
  },
  {
   "cell_type": "code",
   "execution_count": 21,
   "metadata": {},
   "outputs": [
    {
     "data": {
      "text/markdown": [
       "DISCLAIMER: All information contained are the author's opinions.  Developer experience is extremely subjective so take all information with a grain of salt."
      ],
      "text/plain": [
       "<IPython.core.display.Markdown object>"
      ]
     },
     "metadata": {},
     "output_type": "display_data"
    },
    {
     "data": {
      "text/markdown": [
       "# Agenda"
      ],
      "text/plain": [
       "<IPython.core.display.Markdown object>"
      ]
     },
     "metadata": {},
     "output_type": "display_data"
    },
    {
     "data": {
      "text/markdown": [
       "<h2><a href='#standard-development-platform'><ul>🧑‍💻 Standardized Development Platform</ul></a></h2>"
      ],
      "text/plain": [
       "<IPython.core.display.Markdown object>"
      ]
     },
     "metadata": {},
     "output_type": "display_data"
    },
    {
     "data": {
      "text/markdown": [
       "<h2><a href='#automated-build-test'><ul>🤖 Automated Build and Test Procedure</ul></a></h2>"
      ],
      "text/plain": [
       "<IPython.core.display.Markdown object>"
      ]
     },
     "metadata": {},
     "output_type": "display_data"
    },
    {
     "data": {
      "text/markdown": [
       "<h2><a href='#devsecops'><ul>🔐 Using DevSecOps Throughout the Lifecycle of the Project</ul></a></h2>"
      ],
      "text/plain": [
       "<IPython.core.display.Markdown object>"
      ]
     },
     "metadata": {},
     "output_type": "display_data"
    },
    {
     "data": {
      "text/markdown": [
       "<h2><a href='#ux-experience'><ul>🧑‍🎨 Pleasant User Experience</ul></a></h2>"
      ],
      "text/plain": [
       "<IPython.core.display.Markdown object>"
      ]
     },
     "metadata": {},
     "output_type": "display_data"
    },
    {
     "data": {
      "text/markdown": [
       "<h2><a href='#open-source-libraries'><ul>📚 Reuse and Customize Open Source Libraries</ul></a></h2>"
      ],
      "text/plain": [
       "<IPython.core.display.Markdown object>"
      ]
     },
     "metadata": {},
     "output_type": "display_data"
    },
    {
     "data": {
      "text/markdown": [
       "<h2><a href='#version-control'><ul>🚀 Host Code in a Version Controlled Manner</ul></a></h2>"
      ],
      "text/plain": [
       "<IPython.core.display.Markdown object>"
      ]
     },
     "metadata": {},
     "output_type": "display_data"
    },
    {
     "data": {
      "text/markdown": [
       "<h2><a href='#ticket-system'><ul>🏋️ Track Work in a Ticketing System</ul></a></h2>"
      ],
      "text/plain": [
       "<IPython.core.display.Markdown object>"
      ]
     },
     "metadata": {},
     "output_type": "display_data"
    },
    {
     "data": {
      "text/markdown": [
       "<h2><a href='#detailed-changelog'><ul>🪵 Document a Detailed Changelog</ul></a></h2>"
      ],
      "text/plain": [
       "<IPython.core.display.Markdown object>"
      ]
     },
     "metadata": {},
     "output_type": "display_data"
    }
   ],
   "source": [
    "from IPython.display import display, Markdown\n",
    "\n",
    "display(Markdown(f\"DISCLAIMER: All information contained are the author's opinions.  Developer experience is extremely subjective so take all information with a grain of salt.\"))\n",
    "display(Markdown(f\"# Agenda\"))\n",
    "display(Markdown(f\"<h2><a href='#standard-development-platform'><ul>🧑‍💻 Standardized Development Platform</ul></a></h2>\"))\n",
    "display(Markdown(f\"<h2><a href='#automated-build-test'><ul>🤖 Automated Build and Test Procedure</ul></a></h2>\"))\n",
    "display(Markdown(f\"<h2><a href='#devsecops'><ul>🔐 Using DevSecOps Throughout the Lifecycle of the Project</ul></a></h2>\"))\n",
    "display(Markdown(f\"<h2><a href='#ux-experience'><ul>🧑‍🎨 Pleasant User Experience</ul></a></h2>\"))\n",
    "display(Markdown(f\"<h2><a href='#open-source-libraries'><ul>📚 Reuse and Customize Open Source Libraries</ul></a></h2>\"))\n",
    "display(Markdown(f\"<h2><a href='#version-control'><ul>🚀 Host Code in a Version Controlled Manner</ul></a></h2>\"))\n",
    "display(Markdown(f\"<h2><a href='#ticket-system'><ul>🏋️ Track Work in a Ticketing System</ul></a></h2>\"))\n",
    "display(Markdown(f\"<h2><a href='#detailed-changelog'><ul>🪵 Document a Detailed Changelog</ul></a></h2>\"))\n",
    "\n"
   ]
  },
  {
   "cell_type": "code",
   "execution_count": 20,
   "metadata": {},
   "outputs": [
    {
     "data": {
      "text/markdown": [
       "<h1 id='standard-development-platform'>🧑‍💻 Standardized Development Platform</h1>"
      ],
      "text/plain": [
       "<IPython.core.display.Markdown object>"
      ]
     },
     "metadata": {},
     "output_type": "display_data"
    },
    {
     "data": {
      "text/html": [
       "<img src=\"imgs/undraw_Shared_workspace_re_3gsu.png\"/>"
      ],
      "text/plain": [
       "<IPython.core.display.Image object>"
      ]
     },
     "metadata": {},
     "output_type": "display_data"
    },
    {
     "data": {
      "text/markdown": [
       "<h2>Problem Statement: 'It works on my machine'</h2>"
      ],
      "text/plain": [
       "<IPython.core.display.Markdown object>"
      ]
     },
     "metadata": {},
     "output_type": "display_data"
    },
    {
     "data": {
      "text/markdown": [
       "<p>Explanation: Inconsistent and poorly defined development environments, such as a specific operating system, programming language, and set of libraries can lead to unpredictable and unreliable software builds across the development teams.</p>"
      ],
      "text/plain": [
       "<IPython.core.display.Markdown object>"
      ]
     },
     "metadata": {},
     "output_type": "display_data"
    },
    {
     "data": {
      "text/markdown": [
       "<h2>Possible Solution 1: Develop on the same remote host</h2>"
      ],
      "text/plain": [
       "<IPython.core.display.Markdown object>"
      ]
     },
     "metadata": {},
     "output_type": "display_data"
    },
    {
     "data": {
      "text/markdown": [
       "<p>Pros:<ol>Standardize OS</ol><ol>Standardize Programming Language</ol><ol>Standardize Programming Libraries.</ol></p>"
      ],
      "text/plain": [
       "<IPython.core.display.Markdown object>"
      ]
     },
     "metadata": {},
     "output_type": "display_data"
    },
    {
     "data": {
      "text/markdown": [
       "<p>Cons:<ol>Latency issues if the remote host cannot handle the amount of users occurs OS</ol><ol>Additional credentials for developers to remember</ol><ol>Remote host overhead</ol></p>"
      ],
      "text/plain": [
       "<IPython.core.display.Markdown object>"
      ]
     },
     "metadata": {},
     "output_type": "display_data"
    },
    {
     "data": {
      "text/markdown": [
       "<h2>Possible Solution 2: Containerize application</h2>"
      ],
      "text/plain": [
       "<IPython.core.display.Markdown object>"
      ]
     },
     "metadata": {},
     "output_type": "display_data"
    },
    {
     "data": {
      "text/markdown": [
       "<p>Pros: Inconsistent and poorly defined development environments, such as a specific operating system, programming language, and set of libraries can lead to unpredictable and unreliable software builds across the development teams.</p>"
      ],
      "text/plain": [
       "<IPython.core.display.Markdown object>"
      ]
     },
     "metadata": {},
     "output_type": "display_data"
    },
    {
     "data": {
      "text/markdown": [
       "<p>Cons: Inconsistent and poorly defined development environments, such as a specific operating system, programming language, and set of libraries can lead to unpredictable and unreliable software builds across the development teams.</p>"
      ],
      "text/plain": [
       "<IPython.core.display.Markdown object>"
      ]
     },
     "metadata": {},
     "output_type": "display_data"
    }
   ],
   "source": [
    "from IPython.display import Image\n",
    "from IPython.display import display, Markdown\n",
    "\n",
    "display(Markdown(f\"<h1 id='standard-development-platform'>🧑‍💻 Standardized Development Platform</h1>\"))\n",
    "display(Image(url=\"imgs/undraw_Shared_workspace_re_3gsu.png\"))\n",
    "\n",
    "display(Markdown(f\"<h2>Problem Statement: 'It works on my machine'</h2>\"))\n",
    "display(Markdown(f\"<p>Explanation: Inconsistent and poorly defined development environments, such as a specific operating system, programming language, and set of libraries can lead to unpredictable and unreliable software builds across the development teams.</p>\"))\n",
    "\n",
    "display(Markdown(f\"<h2>Possible Solution 1: Develop on the same remote host</h2>\"))\n",
    "display(Markdown(f\"<p>Pros:<ol>Standardize OS</ol><ol>Standardize Programming Language</ol><ol>Standardize Programming Libraries.</ol></p>\"))\n",
    "display(Markdown(f\"<p>Cons:<ol>Latency issues if the remote host cannot handle the amount of users occurs OS</ol><ol>Additional credentials for developers to remember</ol><ol>Remote host overhead</ol></p>\"))\n",
    "\n",
    "display(Markdown(f\"<h2>Possible Solution 2: Containerize application</h2>\"))\n",
    "display(Markdown(f\"<p>Pros: Inconsistent and poorly defined development environments, such as a specific operating system, programming language, and set of libraries can lead to unpredictable and unreliable software builds across the development teams.</p>\"))\n",
    "display(Markdown(f\"<p>Cons: Inconsistent and poorly defined development environments, such as a specific operating system, programming language, and set of libraries can lead to unpredictable and unreliable software builds across the development teams.</p>\"))"
   ]
  }
 ],
 "metadata": {
  "kernelspec": {
   "display_name": ".venv",
   "language": "python",
   "name": "python3"
  },
  "language_info": {
   "codemirror_mode": {
    "name": "ipython",
    "version": 3
   },
   "file_extension": ".py",
   "mimetype": "text/x-python",
   "name": "python",
   "nbconvert_exporter": "python",
   "pygments_lexer": "ipython3",
   "version": "3.11.7"
  },
  "orig_nbformat": 4,
  "vscode": {
   "interpreter": {
    "hash": "0c0b9305530dfaeb071b8dbeabd6656bec54b0210eb4aa324899a3531ddbdd21"
   }
  }
 },
 "nbformat": 4,
 "nbformat_minor": 2
}
